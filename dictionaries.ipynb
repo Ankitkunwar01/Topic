{
 "cells": [
  {
   "cell_type": "markdown",
   "id": "f74cfb9a",
   "metadata": {},
   "source": [
    "Dictionary : Key-Value pairs , Unordered , Mutable"
   ]
  },
  {
   "cell_type": "code",
   "execution_count": 3,
   "id": "67234df7",
   "metadata": {},
   "outputs": [
    {
     "name": "stdout",
     "output_type": "stream",
     "text": [
      "{'name': 'ankit', 'age': 28, 'city': 'ktm'}\n",
      "{'name': 'ankit', 'age': 20, 'city': 'ktm'}\n",
      "ankit\n"
     ]
    }
   ],
   "source": [
    "mydict = { \"name\":\"ankit\",\"age\":28,\"city\": \"ktm\"}\n",
    "print(mydict)\n",
    "mydict2 = dict(name=\"ankit\",age = 20,city=\"ktm\")\n",
    "print(mydict2)\n",
    "value = mydict[\"name\"]\n",
    "print(value)"
   ]
  },
  {
   "cell_type": "code",
   "execution_count": 4,
   "id": "681a191f",
   "metadata": {},
   "outputs": [
    {
     "name": "stdout",
     "output_type": "stream",
     "text": [
      "{'name': 'ankit', 'age': 28, 'city': 'ktm', 'email': 'ankit@gmail.com'}\n"
     ]
    }
   ],
   "source": [
    "mydict = { \"name\":\"ankit\",\"age\":28,\"city\": \"ktm\"}\n",
    "mydict[\"email\"]= \"ankit@gmail.com\"\n",
    "print(mydict)"
   ]
  },
  {
   "cell_type": "code",
   "execution_count": null,
   "id": "7b8c223f",
   "metadata": {},
   "outputs": [
    {
     "name": "stdout",
     "output_type": "stream",
     "text": [
      "{'name': 'ankit', 'city': 'ktm'}\n"
     ]
    }
   ],
   "source": [
    "# delete in dictionary\n",
    "mydict = { \"name\":\"ankit\",\"age\":28,\"city\": \"ktm\"}\n",
    "del mydict[\"age\"]                                      \n",
    "print(mydict)"
   ]
  },
  {
   "cell_type": "code",
   "execution_count": 6,
   "id": "9051ca81",
   "metadata": {},
   "outputs": [
    {
     "name": "stdout",
     "output_type": "stream",
     "text": [
      "yess\n"
     ]
    }
   ],
   "source": [
    "mydict = { \"name\":\"ankit\",\"age\":28,\"city\": \"ktm\"}\n",
    "if \"name\" in mydict:\n",
    "    print(\"yess\")\n",
    "else:\n",
    "    print(\"none\")"
   ]
  },
  {
   "cell_type": "code",
   "execution_count": 10,
   "id": "09f5085f",
   "metadata": {},
   "outputs": [
    {
     "name": "stdout",
     "output_type": "stream",
     "text": [
      "ankit\n",
      "28\n",
      "ktm\n"
     ]
    }
   ],
   "source": [
    "mydict = { \"name\":\"ankit\",\"age\":28,\"city\": \"ktm\"}\n",
    "for i in mydict.values():\n",
    "    print(i)"
   ]
  },
  {
   "cell_type": "code",
   "execution_count": 11,
   "id": "c0910136",
   "metadata": {},
   "outputs": [
    {
     "name": "stdout",
     "output_type": "stream",
     "text": [
      "name ankit\n",
      "age 28\n",
      "city ktm\n"
     ]
    }
   ],
   "source": [
    "mydict = { \"name\":\"ankit\",\"age\":28,\"city\": \"ktm\"}\n",
    "for key , value in mydict.items():\n",
    "    print(key, value)"
   ]
  },
  {
   "cell_type": "code",
   "execution_count": 13,
   "id": "8e628d1a",
   "metadata": {},
   "outputs": [
    {
     "name": "stdout",
     "output_type": "stream",
     "text": [
      "{'name': 'ankit', 'age': 28, 'city': 'ktm'}\n"
     ]
    }
   ],
   "source": [
    "mydict = { \"name\":\"ankit\",\"age\":28,\"city\": \"ktm\"}\n",
    "value = dict(mydict)\n",
    "print(value)"
   ]
  },
  {
   "cell_type": "code",
   "execution_count": 14,
   "id": "2c9de9c4",
   "metadata": {},
   "outputs": [
    {
     "name": "stdout",
     "output_type": "stream",
     "text": [
      "{'name': 'ankit', 'age': 20, 'city': 'ktm', 'email': 'ankit@gmail.com'}\n"
     ]
    }
   ],
   "source": [
    "mydict = { \"name\":\"ankit\",\"age\":28,\"city\": \"ktm\"}\n",
    "mydict2 = dict(name= \"ankit\",age=20,email=\"ankit@gmail.com\")\n",
    "mydict.update(mydict2)\n",
    "print(mydict)"
   ]
  }
 ],
 "metadata": {
  "kernelspec": {
   "display_name": ".venv",
   "language": "python",
   "name": "python3"
  },
  "language_info": {
   "codemirror_mode": {
    "name": "ipython",
    "version": 3
   },
   "file_extension": ".py",
   "mimetype": "text/x-python",
   "name": "python",
   "nbconvert_exporter": "python",
   "pygments_lexer": "ipython3",
   "version": "3.12.3"
  }
 },
 "nbformat": 4,
 "nbformat_minor": 5
}

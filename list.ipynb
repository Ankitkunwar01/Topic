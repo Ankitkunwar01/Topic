{
 "cells": [
  {
   "cell_type": "markdown",
   "id": "20589d60",
   "metadata": {},
   "source": [
    "list : ordered, mutabale , allows duplicate element"
   ]
  },
  {
   "cell_type": "code",
   "execution_count": 9,
   "id": "9b2da791",
   "metadata": {},
   "outputs": [
    {
     "name": "stdout",
     "output_type": "stream",
     "text": [
      "['banana', 'cherry', 'apple']\n",
      "yess\n"
     ]
    }
   ],
   "source": [
    "mylist = [\"banana\", \"cherry\",\"apple\"]\n",
    "print(mylist)\n",
    "\n",
    "\n",
    "if \"banana\" in mylist:\n",
    "    print(\"yess\")\n",
    "else:\n",
    "    print(\"No\")\n"
   ]
  },
  {
   "cell_type": "code",
   "execution_count": null,
   "id": "2258169c",
   "metadata": {},
   "outputs": [
    {
     "name": "stdout",
     "output_type": "stream",
     "text": [
      "['banana', 'cherry', 'apple', 'lemon']\n"
     ]
    }
   ],
   "source": [
    "len(mylist)\n",
    "mylist.append(\"lemon\")\n",
    "print(mylist)"
   ]
  },
  {
   "cell_type": "code",
   "execution_count": null,
   "id": "32a23c56",
   "metadata": {},
   "outputs": [
    {
     "name": "stdout",
     "output_type": "stream",
     "text": [
      "lemon\n"
     ]
    }
   ],
   "source": [
    "item = mylist.pop()\n",
    "print(item)"
   ]
  },
  {
   "cell_type": "code",
   "execution_count": null,
   "id": "3706d32c",
   "metadata": {},
   "outputs": [
    {
     "name": "stdout",
     "output_type": "stream",
     "text": [
      "None\n"
     ]
    }
   ],
   "source": [
    "item = mylist.remove(\"banana\")\n",
    "print(item)\n"
   ]
  },
  {
   "cell_type": "code",
   "execution_count": 10,
   "id": "b3f52f82",
   "metadata": {},
   "outputs": [
    {
     "name": "stdout",
     "output_type": "stream",
     "text": [
      "['apple', 'cherry', 'banana']\n"
     ]
    }
   ],
   "source": [
    "item = mylist.reverse()\n",
    "print(mylist)"
   ]
  },
  {
   "cell_type": "code",
   "execution_count": 1,
   "id": "a6c41da6",
   "metadata": {},
   "outputs": [
    {
     "name": "stdout",
     "output_type": "stream",
     "text": [
      "[1, 2, 2, 3, 5, 7, 12]\n"
     ]
    }
   ],
   "source": [
    "item = [3,2,12,2,1,7,5]\n",
    "item.sort()\n",
    "print(item)"
   ]
  },
  {
   "cell_type": "code",
   "execution_count": 2,
   "id": "d28f5bba",
   "metadata": {},
   "outputs": [
    {
     "name": "stdout",
     "output_type": "stream",
     "text": [
      "[0, 0, 0, 0, 0]\n"
     ]
    }
   ],
   "source": [
    "mylist= [0]*5\n",
    "print(mylist)"
   ]
  },
  {
   "cell_type": "code",
   "execution_count": 8,
   "id": "e14e4d82",
   "metadata": {},
   "outputs": [
    {
     "name": "stdout",
     "output_type": "stream",
     "text": [
      "[9, 8, 7, 6, 5, 4, 3, 2, 1]\n"
     ]
    }
   ],
   "source": [
    "mylist = [1,2,3,4,5,6,7,8,9]\n",
    "a = mylist[::-1]\n",
    "print(a)"
   ]
  },
  {
   "cell_type": "code",
   "execution_count": 11,
   "id": "6a649566",
   "metadata": {},
   "outputs": [
    {
     "name": "stdout",
     "output_type": "stream",
     "text": [
      "['banana', 'cherry', 'apple']\n",
      "['banana', 'cherry', 'apple', 'mango']\n"
     ]
    }
   ],
   "source": [
    "list= [\"banana\",\"cherry\",\"apple\"]\n",
    "copy = list.copy()\n",
    "listcopy= copy.append(\"mango\")\n",
    "print(list)\n",
    "print(copy)\n",
    "# print(list+copy)"
   ]
  },
  {
   "cell_type": "code",
   "execution_count": null,
   "id": "8ea6644c",
   "metadata": {},
   "outputs": [
    {
     "name": "stdout",
     "output_type": "stream",
     "text": [
      "[1, 2, 3, 4, 5]\n",
      "[1, 4, 9, 16, 25]\n"
     ]
    }
   ],
   "source": [
    "a = [1,2,3,4,5]\n",
    "b = [i*i for i in a]\n",
    "print(a)\n",
    "print(b)"
   ]
  }
 ],
 "metadata": {
  "kernelspec": {
   "display_name": ".venv",
   "language": "python",
   "name": "python3"
  },
  "language_info": {
   "codemirror_mode": {
    "name": "ipython",
    "version": 3
   },
   "file_extension": ".py",
   "mimetype": "text/x-python",
   "name": "python",
   "nbconvert_exporter": "python",
   "pygments_lexer": "ipython3",
   "version": "3.12.3"
  }
 },
 "nbformat": 4,
 "nbformat_minor": 5
}

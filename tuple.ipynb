{
 "cells": [
  {
   "cell_type": "markdown",
   "id": "6971d7ac",
   "metadata": {},
   "source": [
    "Tuple : ordered , immutable , allows duplicate element"
   ]
  },
  {
   "cell_type": "code",
   "execution_count": 2,
   "id": "afab63a4",
   "metadata": {},
   "outputs": [
    {
     "name": "stdout",
     "output_type": "stream",
     "text": [
      "('Max', 30, 'class:30')\n"
     ]
    }
   ],
   "source": [
    "myTuple = \"Max\",30,\"class:30\"\n",
    "print(myTuple)"
   ]
  },
  {
   "cell_type": "code",
   "execution_count": 6,
   "id": "de67591e",
   "metadata": {},
   "outputs": [
    {
     "name": "stdout",
     "output_type": "stream",
     "text": [
      "Max\n",
      "30\n",
      "class:30\n"
     ]
    }
   ],
   "source": [
    "for i in myTuple:\n",
    "    print(i)"
   ]
  },
  {
   "cell_type": "code",
   "execution_count": 5,
   "id": "ebb7d2bb",
   "metadata": {},
   "outputs": [
    {
     "data": {
      "text/plain": [
       "'no'"
      ]
     },
     "execution_count": 5,
     "metadata": {},
     "output_type": "execute_result"
    }
   ],
   "source": [
    "def fun():\n",
    "   if \"ankit\" in myTuple:\n",
    "     return \"yess\"\n",
    "   else:\n",
    "    return \"no\"\n",
    "fun()"
   ]
  },
  {
   "cell_type": "code",
   "execution_count": 9,
   "id": "b45125cc",
   "metadata": {},
   "outputs": [
    {
     "name": "stdout",
     "output_type": "stream",
     "text": [
      "5\n",
      "2\n",
      "0\n"
     ]
    }
   ],
   "source": [
    "my_tuple = ('a','p','p','l','e')\n",
    "print(len(my_tuple))\n",
    "print(my_tuple.count('p'))\n",
    "print(my_tuple.index('a'))"
   ]
  },
  {
   "cell_type": "code",
   "execution_count": 11,
   "id": "32614375",
   "metadata": {},
   "outputs": [
    {
     "name": "stdout",
     "output_type": "stream",
     "text": [
      "('a', 'p', 'p', 'l', 'e')\n",
      "('a', 'p', 'p', 'l', 'e')\n"
     ]
    }
   ],
   "source": [
    "my_list = list(my_tuple)\n",
    "print(my_tuple)\n",
    "\n",
    "my_tuple2 = tuple(my_list)\n",
    "print(my_tuple2)"
   ]
  },
  {
   "cell_type": "code",
   "execution_count": 12,
   "id": "3ea3eed5",
   "metadata": {},
   "outputs": [
    {
     "name": "stdout",
     "output_type": "stream",
     "text": [
      "(9, 8, 7, 6, 5, 4, 3, 2, 1)\n"
     ]
    }
   ],
   "source": [
    "a =(1,2,3,4,5,6,7,8,9)\n",
    "b=a[::-1]\n",
    "print(b)"
   ]
  },
  {
   "cell_type": "code",
   "execution_count": null,
   "id": "8f26ff0f",
   "metadata": {},
   "outputs": [
    {
     "name": "stdout",
     "output_type": "stream",
     "text": [
      "max\n",
      "39\n",
      "ktm\n"
     ]
    }
   ],
   "source": [
    "my_tuple = \"maxxx\" , 39,\"ktm\"\n",
    "name , age, city = my_tuple\n",
    "print(name)\n",
    "print(age)\n",
    "print(city)"
   ]
  },
  {
   "cell_type": "code",
   "execution_count": 14,
   "id": "d1c49c03",
   "metadata": {},
   "outputs": [
    {
     "name": "stdout",
     "output_type": "stream",
     "text": [
      "1\n",
      "5\n",
      "[2, 3, 4]\n"
     ]
    }
   ],
   "source": [
    "my_tuple = (1,2,3,4,5)\n",
    "i1,*i2,i3=my_tuple\n",
    "print(i1)\n",
    "print(i3)\n",
    "print(i2)"
   ]
  }
 ],
 "metadata": {
  "kernelspec": {
   "display_name": ".venv",
   "language": "python",
   "name": "python3"
  },
  "language_info": {
   "codemirror_mode": {
    "name": "ipython",
    "version": 3
   },
   "file_extension": ".py",
   "mimetype": "text/x-python",
   "name": "python",
   "nbconvert_exporter": "python",
   "pygments_lexer": "ipython3",
   "version": "3.12.3"
  }
 },
 "nbformat": 4,
 "nbformat_minor": 5
}
